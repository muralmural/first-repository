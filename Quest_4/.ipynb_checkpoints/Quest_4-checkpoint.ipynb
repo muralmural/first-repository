{
 "cells": [
  {
   "cell_type": "code",
   "execution_count": 1,
   "id": "2edce7d3",
   "metadata": {},
   "outputs": [],
   "source": [
    "from random import randrange"
   ]
  },
  {
   "cell_type": "markdown",
   "id": "7025dbe4",
   "metadata": {},
   "source": [
    "## Class Definition"
   ]
  },
  {
   "cell_type": "code",
   "execution_count": 2,
   "id": "c97fb17f",
   "metadata": {},
   "outputs": [],
   "source": [
    "class FunnyDice:\n",
    "\n",
    "\n",
    "    def __init__(self, n=6):\n",
    "        self.n = int(n)\n",
    "        self.numbers = list(range(1, n+1))\n",
    "        self.index = randrange(0, self.n)\n",
    "        self.val = self.numbers[self.index]\n",
    "    \n",
    "    def throw(self):\n",
    "        self.index = randrange(0,self.n)\n",
    "        self.val = self.numbers[self.index]\n",
    "    \n",
    "    def getval(self):\n",
    "        return self.val\n",
    "\n",
    "    def setval(self, value):\n",
    "        if value in self.numbers:\n",
    "            self.val = value\n",
    "        else: \n",
    "            print(\"Invalid Value\")"
   ]
  },
  {
   "cell_type": "markdown",
   "id": "c39005f9",
   "metadata": {},
   "source": [
    "## Get Input Function"
   ]
  },
  {
   "cell_type": "code",
   "execution_count": 3,
   "id": "a87c7835",
   "metadata": {},
   "outputs": [],
   "source": [
    "def get_inputs():\n",
    "    return int(input(\"Enter the number of sides on the dice: \"))"
   ]
  },
  {
   "cell_type": "markdown",
   "id": "f4e0c416",
   "metadata": {},
   "source": [
    "## Main Function"
   ]
  },
  {
   "cell_type": "code",
   "execution_count": 4,
   "id": "042d4983",
   "metadata": {},
   "outputs": [],
   "source": [
    "def main():\n",
    "    n = get_inputs()\n",
    "    mydice = FunnyDice(n)\n",
    "    mydice.throw()\n",
    "    print(f\"행운의 숫자는? {mydice.getval()}\")"
   ]
  },
  {
   "cell_type": "markdown",
   "id": "f10d3cff",
   "metadata": {},
   "source": [
    "## To Run"
   ]
  },
  {
   "cell_type": "code",
   "execution_count": 5,
   "id": "178d9795",
   "metadata": {},
   "outputs": [
    {
     "name": "stdout",
     "output_type": "stream",
     "text": [
      "Enter the number of sides on the dice: 6\n",
      "행운의 숫자는? 1\n"
     ]
    }
   ],
   "source": [
    "if __name__ == '__main__':\n",
    "    main()"
   ]
  },
  {
   "cell_type": "code",
   "execution_count": null,
   "id": "fadf31fa",
   "metadata": {},
   "outputs": [],
   "source": []
  }
 ],
 "metadata": {
  "kernelspec": {
   "display_name": "Python 3 (ipykernel)",
   "language": "python",
   "name": "python3"
  },
  "language_info": {
   "codemirror_mode": {
    "name": "ipython",
    "version": 3
   },
   "file_extension": ".py",
   "mimetype": "text/x-python",
   "name": "python",
   "nbconvert_exporter": "python",
   "pygments_lexer": "ipython3",
   "version": "3.9.7"
  }
 },
 "nbformat": 4,
 "nbformat_minor": 5
}
