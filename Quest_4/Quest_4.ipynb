{
 "cells": [
  {
   "cell_type": "code",
   "execution_count": 1,
   "id": "14965a7e",
   "metadata": {},
   "outputs": [],
   "source": [
    "from random import randrange"
   ]
  },
  {
   "cell_type": "markdown",
   "id": "7bd502a4",
   "metadata": {},
   "source": [
    "## Class Definition"
   ]
  },
  {
   "cell_type": "code",
   "execution_count": 2,
   "id": "0e8e90d2",
   "metadata": {},
   "outputs": [],
   "source": [
    "class FunnyDice:\n",
    "\n",
    "\n",
    "    def __init__(self, n=6):\n",
    "        self.n = int(n)\n",
    "        self.numbers = list(range(1, n+1))\n",
    "        self.index = randrange(0, self.n)\n",
    "        self.val = self.numbers[self.index]\n",
    "    \n",
    "    def throw(self):\n",
    "        self.index = randrange(0,self.n)\n",
    "        self.val = self.numbers[self.index]\n",
    "    \n",
    "    def getval(self):\n",
    "        return self.val\n",
    "\n",
    "    def setval(self, value):\n",
    "        if value in self.numbers:\n",
    "            self.val = value\n",
    "        else: \n",
    "            print(\"Invalid Value\")"
   ]
  },
  {
   "cell_type": "markdown",
   "id": "32cbd405",
   "metadata": {},
   "source": [
    "## Get Input Function"
   ]
  },
  {
   "cell_type": "code",
   "execution_count": 3,
   "id": "305fda6e",
   "metadata": {},
   "outputs": [],
   "source": [
    "def get_inputs():\n",
    "    return int(input(\"Enter the number of sides on the dice: \"))"
   ]
  },
  {
   "cell_type": "markdown",
   "id": "034f0343",
   "metadata": {},
   "source": [
    "## Main Function"
   ]
  },
  {
   "cell_type": "code",
   "execution_count": 4,
   "id": "29425b37",
   "metadata": {},
   "outputs": [],
   "source": [
    "def main():\n",
    "    n = get_inputs()\n",
    "    mydice = FunnyDice(n)\n",
    "    mydice.throw()\n",
    "    print(f\"행운의 숫자는? {mydice.getval()}\")"
   ]
  },
  {
   "cell_type": "markdown",
   "id": "0f2e64be",
   "metadata": {},
   "source": [
    "# AIFFEL Socar Campus Code Peer Review Templete\n",
    "\n",
    "코더 : [코드 작성자]\n",
    "리뷰어 : [리뷰어]\n",
    "\n",
    "## PRT(PeerReviewTemplate)\n",
    "각 항목을 스스로 확인하고 토의하여 작성한 코드에 적용합니다.\n",
    "\n",
    "[O] 코드가 정상적으로 동작하고 주어진 문제를 해결했나요?\n",
    "### 답변을 작성해주세요\n",
    "[X] 주석을 보고 작성자의 코드가 이해되었나요?\n",
    "### 답변을 작성해주세요\n",
    "[O] 코드가 에러를 유발할 가능성이 없나요?\n",
    "### 답변을 작성해주세요\n",
    "[O] 코드 작성자가 코드를 제대로 이해하고 작성했나요?\n",
    "### 답변을 작성해주세요\n",
    "[X] 코드가 간결한가요?\n",
    "### 답변을 작성해주세요"
   ]
  },
  {
   "cell_type": "code",
   "execution_count": null,
   "id": "d01d6c40",
   "metadata": {},
   "outputs": [],
   "source": []
  }
 ],
 "metadata": {
  "kernelspec": {
   "display_name": "Python 3 (ipykernel)",
   "language": "python",
   "name": "python3"
  },
  "language_info": {
   "codemirror_mode": {
    "name": "ipython",
    "version": 3
   },
   "file_extension": ".py",
   "mimetype": "text/x-python",
   "name": "python",
   "nbconvert_exporter": "python",
   "pygments_lexer": "ipython3",
   "version": "3.9.7"
  }
 },
 "nbformat": 4,
 "nbformat_minor": 5
}
