{
 "cells": [
  {
   "cell_type": "markdown",
   "id": "4e5fbaae",
   "metadata": {},
   "source": [
    "# 프로젝트 1: 전화번호 가려주는 프로그램"
   ]
  },
  {
   "cell_type": "code",
   "execution_count": 1,
   "id": "aebf06fb",
   "metadata": {},
   "outputs": [],
   "source": [
    "numbers = '010-12345-23456'"
   ]
  },
  {
   "cell_type": "markdown",
   "id": "59500c07",
   "metadata": {},
   "source": [
    "### 함수 정의"
   ]
  },
  {
   "cell_type": "code",
   "execution_count": 2,
   "id": "46825066",
   "metadata": {},
   "outputs": [],
   "source": [
    "def change_num(nums):\n",
    "    answer = nums.replace(nums[-5:], '#####')\n",
    "    return answer"
   ]
  },
  {
   "cell_type": "markdown",
   "id": "c59b346b",
   "metadata": {},
   "source": [
    "### 체크"
   ]
  },
  {
   "cell_type": "code",
   "execution_count": 3,
   "id": "524a478b",
   "metadata": {},
   "outputs": [
    {
     "name": "stdout",
     "output_type": "stream",
     "text": [
      "010-12345-#####\n"
     ]
    }
   ],
   "source": [
    "print(change_num(numbers))"
   ]
  },
  {
   "cell_type": "markdown",
   "id": "c3b5b2d6",
   "metadata": {},
   "source": [
    "# 프로젝트 2: 리스트 평탄화"
   ]
  },
  {
   "cell_type": "code",
   "execution_count": 4,
   "id": "171266b1",
   "metadata": {},
   "outputs": [],
   "source": [
    "overlap = [[1, 2], 3, [[4, 5, 6], 7], 8, 9]"
   ]
  },
  {
   "cell_type": "markdown",
   "id": "1f93e9c6",
   "metadata": {},
   "source": [
    "### 함수 정의"
   ]
  },
  {
   "cell_type": "code",
   "execution_count": 5,
   "id": "32515f72",
   "metadata": {},
   "outputs": [],
   "source": [
    "def flatten(data):\n",
    "    output = []\n",
    "\n",
    "    for y in data:\n",
    "        if type(y) == list:\n",
    "            output += flatten(y)\n",
    "        else:\n",
    "            output.append(y)\n",
    "    return output"
   ]
  },
  {
   "cell_type": "markdown",
   "id": "dda3cfff",
   "metadata": {},
   "source": [
    "### 체크"
   ]
  },
  {
   "cell_type": "code",
   "execution_count": 6,
   "id": "64d419dd",
   "metadata": {},
   "outputs": [
    {
     "name": "stdout",
     "output_type": "stream",
     "text": [
      "[1, 2, 3, 4, 5, 6, 7, 8, 9]\n"
     ]
    }
   ],
   "source": [
    "print(flatten(overlap))"
   ]
  },
  {
   "cell_type": "markdown",
   "id": "7e193d03",
   "metadata": {},
   "source": [
    "# 프로젝트 3: 10 이하 숫자만 곱해주는 함수"
   ]
  },
  {
   "cell_type": "markdown",
   "id": "1b81bd4b",
   "metadata": {},
   "source": [
    "### 함수 정의"
   ]
  },
  {
   "cell_type": "code",
   "execution_count": 7,
   "id": "7c2158d4",
   "metadata": {},
   "outputs": [],
   "source": [
    "def multiplier(*values):\n",
    "    output = 1\n",
    "    \n",
    "    for n in values:\n",
    "        if n <= 10:\n",
    "            output *= n\n",
    "        else: pass\n",
    "    \n",
    "    return output"
   ]
  },
  {
   "cell_type": "markdown",
   "id": "0485b9b0",
   "metadata": {},
   "source": [
    "### 체크"
   ]
  },
  {
   "cell_type": "code",
   "execution_count": 8,
   "id": "63ea2884",
   "metadata": {},
   "outputs": [
    {
     "name": "stdout",
     "output_type": "stream",
     "text": [
      "120\n"
     ]
    }
   ],
   "source": [
    "print(multiplier(2, 3, 4, 5))"
   ]
  },
  {
   "cell_type": "code",
   "execution_count": 9,
   "id": "07424eff",
   "metadata": {},
   "outputs": [
    {
     "name": "stdout",
     "output_type": "stream",
     "text": [
      "30\n"
     ]
    }
   ],
   "source": [
    "print(multiplier(3, 12, 10))"
   ]
  },
  {
   "cell_type": "markdown",
   "id": "60deea78",
   "metadata": {},
   "source": [
    "## 회고록\n",
    "\n",
    "이번 프로젝트를 통해 문자열 조작, 재귀 함수, 조건문 사용 등 여러 프로그래밍 기술을 적용해볼 수 있었습니다. 각 프로젝트는 다양한 주제와 난이도로 구성되어 있어, 다양한 프로그래밍 요소를 한번에 연습할 수 있었습니다. 가변 인자를 받아 처리하는 방법과 조건문을 활용한 로직 구성을 해야했는 프로젝트3은 특히 더 흥미로웠습니다. \n",
    "\n",
    "또한, 리스트 평탄화에서의 재귀 함수 사용은 생각보다 복잡했으나, 이를 통해 재귀에 대한 깊은 이해를 할 수 있었습니다. 전반적으로 도전적이면서도 유익한 경험이었으며, 앞으로 이러한 기초를 바탕으로 더 복잡한 문제에도 도전할 자신이 생겼습니다."
   ]
  },
  {
   "cell_type": "markdown",
   "id": "2df0e33e",
   "metadata": {},
   "source": []
  }
 ],
 "metadata": {
  "kernelspec": {
   "display_name": "Python 3 (ipykernel)",
   "language": "python",
   "name": "python3"
  },
  "language_info": {
   "codemirror_mode": {
    "name": "ipython",
    "version": 3
   },
   "file_extension": ".py",
   "mimetype": "text/x-python",
   "name": "python",
   "nbconvert_exporter": "python",
   "pygments_lexer": "ipython3",
   "version": "3.9.7"
  }
 },
 "nbformat": 4,
 "nbformat_minor": 5
}
