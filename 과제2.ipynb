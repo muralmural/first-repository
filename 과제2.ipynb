{
 "cells": [
  {
   "cell_type": "markdown",
   "id": "4e5fbaae",
   "metadata": {},
   "source": [
    "# 프로젝트 1: 전화번호 가려주는 프로그램"
   ]
  },
  {
   "cell_type": "code",
   "execution_count": 1,
   "id": "aebf06fb",
   "metadata": {},
   "outputs": [],
   "source": [
    "numbers = '010-12345-23456'"
   ]
  },
  {
   "cell_type": "markdown",
   "id": "59500c07",
   "metadata": {},
   "source": [
    "### 함수 정의"
   ]
  },
  {
   "cell_type": "code",
   "execution_count": 2,
   "id": "46825066",
   "metadata": {},
   "outputs": [],
   "source": [
    "def change_num(nums):\n",
    "    answer = nums.replace(nums[-5:], '#####')\n",
    "    return answer"
   ]
  },
  {
   "cell_type": "markdown",
   "id": "c59b346b",
   "metadata": {},
   "source": [
    "### 체크"
   ]
  },
  {
   "cell_type": "code",
   "execution_count": 3,
   "id": "524a478b",
   "metadata": {},
   "outputs": [
    {
     "name": "stdout",
     "output_type": "stream",
     "text": [
      "010-12345-#####\n"
     ]
    }
   ],
   "source": [
    "print(change_num(numbers))"
   ]
  },
  {
   "cell_type": "markdown",
   "id": "c3b5b2d6",
   "metadata": {},
   "source": [
    "# 프로젝트 2: 리스트 평탄화"
   ]
  },
  {
   "cell_type": "code",
   "execution_count": 4,
   "id": "171266b1",
   "metadata": {},
   "outputs": [],
   "source": [
    "overlap = [[1, 2], 3, [[4, 5, 6], 7], 8, 9]"
   ]
  },
  {
   "cell_type": "markdown",
   "id": "1f93e9c6",
   "metadata": {},
   "source": [
    "### 함수 정의"
   ]
  },
  {
   "cell_type": "code",
   "execution_count": 5,
   "id": "32515f72",
   "metadata": {},
   "outputs": [],
   "source": [
    "def flatten(data):\n",
    "    output = []\n",
    "\n",
    "    for y in data:\n",
    "        if type(y) == list:\n",
    "            output += flatten(y)\n",
    "        else:\n",
    "            output.append(y)\n",
    "    return output"
   ]
  },
  {
   "cell_type": "markdown",
   "id": "dda3cfff",
   "metadata": {},
   "source": [
    "### 체크"
   ]
  },
  {
   "cell_type": "code",
   "execution_count": 6,
   "id": "64d419dd",
   "metadata": {},
   "outputs": [
    {
     "name": "stdout",
     "output_type": "stream",
     "text": [
      "[1, 2, 3, 4, 5, 6, 7, 8, 9]\n"
     ]
    }
   ],
   "source": [
    "print(flatten(overlap))"
   ]
  },
  {
   "cell_type": "markdown",
   "id": "7e193d03",
   "metadata": {},
   "source": [
    "# 프로젝트 3: 10 이하 숫자만 곱해주는 함수"
   ]
  },
  {
   "cell_type": "markdown",
   "id": "1b81bd4b",
   "metadata": {},
   "source": [
    "### 함수 정의"
   ]
  },
  {
   "cell_type": "code",
   "execution_count": 7,
   "id": "7c2158d4",
   "metadata": {},
   "outputs": [],
   "source": [
    "def multiplier(*values):\n",
    "    output = 1\n",
    "    \n",
    "    for n in values:\n",
    "        if n <= 10:\n",
    "            output *= n\n",
    "        else: pass\n",
    "    \n",
    "    return output"
   ]
  },
  {
   "cell_type": "markdown",
   "id": "0485b9b0",
   "metadata": {},
   "source": [
    "### 체크"
   ]
  },
  {
   "cell_type": "code",
   "execution_count": 8,
   "id": "63ea2884",
   "metadata": {},
   "outputs": [
    {
     "name": "stdout",
     "output_type": "stream",
     "text": [
      "120\n"
     ]
    }
   ],
   "source": [
    "print(multiplier(2, 3, 4, 5))"
   ]
  },
  {
   "cell_type": "code",
   "execution_count": 9,
   "id": "07424eff",
   "metadata": {},
   "outputs": [
    {
     "name": "stdout",
     "output_type": "stream",
     "text": [
      "30\n"
     ]
    }
   ],
   "source": [
    "print(multiplier(3, 12, 10))"
   ]
  }
 ],
 "metadata": {
  "kernelspec": {
   "display_name": "Python 3 (ipykernel)",
   "language": "python",
   "name": "python3"
  },
  "language_info": {
   "codemirror_mode": {
    "name": "ipython",
    "version": 3
   },
   "file_extension": ".py",
   "mimetype": "text/x-python",
   "name": "python",
   "nbconvert_exporter": "python",
   "pygments_lexer": "ipython3",
   "version": "3.9.7"
  }
 },
 "nbformat": 4,
 "nbformat_minor": 5
}
